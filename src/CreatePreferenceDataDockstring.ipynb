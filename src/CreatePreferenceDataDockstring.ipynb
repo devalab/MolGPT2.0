{
 "cells": [
  {
   "cell_type": "code",
   "execution_count": null,
   "metadata": {},
   "outputs": [],
   "source": [
    "import pickle\n",
    "with open('../checkpoints/LCK_Decoder_affinity_logps_qeds_tpsas/RawPreferenceData.pkl', 'rb') as f:\n",
    "    target_smiles, target_properties, sampled_smiles = pickle.load(f)"
   ]
  },
  {
   "cell_type": "code",
   "execution_count": null,
   "metadata": {},
   "outputs": [],
   "source": [
    "import numpy as np\n",
    "\n",
    "sampled_smiles = np.array(sampled_smiles)\n"
   ]
  },
  {
   "cell_type": "code",
   "execution_count": null,
   "metadata": {},
   "outputs": [],
   "source": [
    "\n",
    "import dockstring\n",
    "from dockstring import load_target\n",
    "\n",
    "sampled_affinities =[]\n",
    "target = load_target('LCK') "
   ]
  },
  {
   "cell_type": "code",
   "execution_count": null,
   "metadata": {},
   "outputs": [],
   "source": [
    "config = {\n",
    "    'batch_size' :512,\n",
    "    'd_model': 512,\n",
    "    'n_heads': 8,\n",
    "    'n_layers':4,\n",
    "    'hidden_units': 1024,\n",
    "    'lr': 1e-5,\n",
    "    'epochs': 1000,\n",
    "    'properties': sorted(['affinity', 'logps','tpsas','qeds'])\n",
    "}\n",
    "config['run_name'] = \"LCK_Decoder_\"+ \"_\".join(prop for prop in config['properties'])\n",
    "print(config)"
   ]
  },
  {
   "cell_type": "code",
   "execution_count": null,
   "metadata": {},
   "outputs": [],
   "source": [
    "import concurrent.futures\n",
    "\n",
    "from rdkit.Chem import RDConfig\n",
    "import os\n",
    "import sys\n",
    "sys.path.append(os.path.join(RDConfig.RDContribDir, 'SA_Score'))\n",
    "# now you can import sascore!\n",
    "import sascorer\n",
    "from rdkit.Chem import QED, Descriptors, Crippen\n",
    "\n",
    "def dock_smile(smile):\n",
    "    target = load_target('LCK')\n",
    "    try:\n",
    "        score, _ =  target.dock(smile, num_cpus=4)\n",
    "    except:\n",
    "        score = None\n",
    "    return score\n",
    "\n",
    "def compute_logps(smile):\n",
    "    try:\n",
    "        logp = Crippen.MolLogP(Chem.MolFromSmiles(smi))\n",
    "    except:\n",
    "        logp = None\n",
    "    return logp\n",
    "\n",
    "\n",
    "data = []\n",
    "import multiprocessing as mp\n",
    "\n",
    "for target_smile, target_prop, smilelist in zip(target_smiles, target_properties, sampled_smiles):\n",
    "    \n",
    "    with mp.Pool(mp.cpu_count()) as p:\n",
    "        results = p.map(dock_smile, smilelist)\n",
    "    \n",
    "    data.append([target_smile, target_prop, smilelist, results])\n",
    "    \n",
    "    if len(data) % 100 == 0:\n",
    "        with open('../checkpoints/LCK_Decoder_affinity_logps_qeds_tpsas/PreferenceDataAffinities.pkl', 'wb') as f:\n",
    "            pickle.dump(data, f)\n",
    "            \n",
    "    "
   ]
  },
  {
   "cell_type": "code",
   "execution_count": null,
   "metadata": {},
   "outputs": [],
   "source": []
  }
 ],
 "metadata": {
  "kernelspec": {
   "display_name": "sbdd-env",
   "language": "python",
   "name": "python3"
  },
  "language_info": {
   "codemirror_mode": {
    "name": "ipython",
    "version": 3
   },
   "file_extension": ".py",
   "mimetype": "text/x-python",
   "name": "python",
   "nbconvert_exporter": "python",
   "pygments_lexer": "ipython3",
   "version": "3.10.8"
  }
 },
 "nbformat": 4,
 "nbformat_minor": 2
}
