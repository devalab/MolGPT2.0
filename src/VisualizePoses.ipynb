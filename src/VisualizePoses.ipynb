{
 "cells": [
  {
   "cell_type": "code",
   "execution_count": 1,
   "metadata": {},
   "outputs": [],
   "source": [
    "import numpy as np\n",
    "import pandas as pd\n",
    "\n",
    "import dockstring\n",
    "from dockstring import load_target\n",
    "\n",
    "import matplotlib.pyplot as plt\n",
    "import rdkit\n",
    "import rdkit.Chem as Chem\n",
    "\n",
    "\n",
    "from rdkit.Chem import RDConfig\n",
    "import os\n",
    "import sys\n",
    "sys.path.append(os.path.join(RDConfig.RDContribDir, 'SA_Score'))\n",
    "# now you can import sascore!\n",
    "import sascorer\n",
    "from rdkit.Chem import QED, Descriptors, Crippen"
   ]
  },
  {
   "cell_type": "code",
   "execution_count": null,
   "metadata": {},
   "outputs": [],
   "source": [
    "\n"
   ]
  },
  {
   "cell_type": "code",
   "execution_count": 2,
   "metadata": {},
   "outputs": [],
   "source": [
    "import pickle \n",
    "\n",
    "with open('../checkpoints/affinity_logps_qeds_tpsas/results.pkl', 'rb') as f:\n",
    "    results = pickle.load(f)"
   ]
  },
  {
   "cell_type": "code",
   "execution_count": 3,
   "metadata": {},
   "outputs": [
    {
     "name": "stdout",
     "output_type": "stream",
     "text": [
      "dict_keys(['-9-2-0.6-50', '-9-2-0.6-100', '-9-2-0.8-50', '-9-2-0.8-100', '-9-4-0.6-50', '-9-4-0.6-100', '-9-4-0.8-50', '-9-4-0.8-100', '-7-2-0.6-50', '-7-2-0.6-100', '-7-2-0.8-50', '-7-2-0.8-100', '-7-4-0.6-50', '-7-4-0.6-100', '-7-4-0.8-50', '-7-4-0.8-100'])\n"
     ]
    }
   ],
   "source": [
    "print(results.keys())"
   ]
  },
  {
   "cell_type": "code",
   "execution_count": 4,
   "metadata": {},
   "outputs": [],
   "source": [
    "smile = results['-9-2-0.8-50'][-1][0]"
   ]
  },
  {
   "cell_type": "code",
   "execution_count": 5,
   "metadata": {},
   "outputs": [],
   "source": [
    "target = load_target('LCK')\n",
    "score, info = target.dock(smile)"
   ]
  },
  {
   "cell_type": "code",
   "execution_count": 7,
   "metadata": {},
   "outputs": [
    {
     "data": {
      "text/plain": [
       "{'ligand': <rdkit.Chem.rdchem.Mol at 0x7fe8768f09a0>,\n",
       " 'affinities': [-8.5, -8.0, -7.7, -7.6, -7.6, -7.3, -7.3, -7.1, -6.9]}"
      ]
     },
     "execution_count": 7,
     "metadata": {},
     "output_type": "execute_result"
    }
   ],
   "source": [
    "info"
   ]
  },
  {
   "cell_type": "code",
   "execution_count": null,
   "metadata": {},
   "outputs": [],
   "source": []
  }
 ],
 "metadata": {
  "kernelspec": {
   "display_name": "dockstring",
   "language": "python",
   "name": "python3"
  },
  "language_info": {
   "codemirror_mode": {
    "name": "ipython",
    "version": 3
   },
   "file_extension": ".py",
   "mimetype": "text/x-python",
   "name": "python",
   "nbconvert_exporter": "python",
   "pygments_lexer": "ipython3",
   "version": "3.8.18"
  }
 },
 "nbformat": 4,
 "nbformat_minor": 2
}
